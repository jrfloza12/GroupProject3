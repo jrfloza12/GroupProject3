{
 "cells": [
  {
   "cell_type": "code",
   "execution_count": 14,
   "metadata": {},
   "outputs": [],
   "source": [
    "# Import dependencies\n",
    "from pymongo import MongoClient\n",
    "import pandas as pd\n",
    "from pprint import pprint\n",
    "import csv"
   ]
  },
  {
   "cell_type": "code",
   "execution_count": 15,
   "metadata": {},
   "outputs": [
    {
     "name": "stderr",
     "output_type": "stream",
     "text": [
      "C:\\Users\\tarek\\AppData\\Local\\Temp\\ipykernel_15440\\2726493375.py:7: DtypeWarning: Columns (0,1,2,3,4,5,6,7,8,9,10,11,12,13,14,15) have mixed types. Specify dtype option on import or set low_memory=False.\n",
      "  flightdelays_df = pd.read_csv('merged-csv-files.csv')\n"
     ]
    },
    {
     "data": {
      "text/html": [
       "<div>\n",
       "<style scoped>\n",
       "    .dataframe tbody tr th:only-of-type {\n",
       "        vertical-align: middle;\n",
       "    }\n",
       "\n",
       "    .dataframe tbody tr th {\n",
       "        vertical-align: top;\n",
       "    }\n",
       "\n",
       "    .dataframe thead th {\n",
       "        text-align: right;\n",
       "    }\n",
       "</style>\n",
       "<table border=\"1\" class=\"dataframe\">\n",
       "  <thead>\n",
       "    <tr style=\"text-align: right;\">\n",
       "      <th></th>\n",
       "      <th>FL_DATE</th>\n",
       "      <th>ORIGIN</th>\n",
       "      <th>DEST</th>\n",
       "      <th>DEP_DELAY</th>\n",
       "      <th>ARR_DELAY</th>\n",
       "      <th>CANCELLED</th>\n",
       "      <th>CANCELLATION_CODE</th>\n",
       "      <th>DIVERTED</th>\n",
       "      <th>CARRIER_DELAY</th>\n",
       "      <th>WEATHER_DELAY</th>\n",
       "      <th>NAS_DELAY</th>\n",
       "      <th>SECURITY_DELAY</th>\n",
       "      <th>LATE_AIRCRAFT_DELAY</th>\n",
       "      <th>DELAYED_STATUS</th>\n",
       "      <th>CANCELLED_STATUS</th>\n",
       "      <th>DIVERTED_STATUS</th>\n",
       "    </tr>\n",
       "  </thead>\n",
       "  <tbody>\n",
       "    <tr>\n",
       "      <th>0</th>\n",
       "      <td>12/1/2018 0:00</td>\n",
       "      <td>LAX</td>\n",
       "      <td>ABQ</td>\n",
       "      <td>-7.0</td>\n",
       "      <td>-22.0</td>\n",
       "      <td>0</td>\n",
       "      <td>NaN</td>\n",
       "      <td>0</td>\n",
       "      <td>NaN</td>\n",
       "      <td>NaN</td>\n",
       "      <td>NaN</td>\n",
       "      <td>NaN</td>\n",
       "      <td>NaN</td>\n",
       "      <td>0</td>\n",
       "      <td>0</td>\n",
       "      <td>0</td>\n",
       "    </tr>\n",
       "    <tr>\n",
       "      <th>1</th>\n",
       "      <td>12/1/2018 0:00</td>\n",
       "      <td>LAX</td>\n",
       "      <td>ABQ</td>\n",
       "      <td>-7.0</td>\n",
       "      <td>-11.0</td>\n",
       "      <td>0</td>\n",
       "      <td>NaN</td>\n",
       "      <td>0</td>\n",
       "      <td>NaN</td>\n",
       "      <td>NaN</td>\n",
       "      <td>NaN</td>\n",
       "      <td>NaN</td>\n",
       "      <td>NaN</td>\n",
       "      <td>0</td>\n",
       "      <td>0</td>\n",
       "      <td>0</td>\n",
       "    </tr>\n",
       "    <tr>\n",
       "      <th>2</th>\n",
       "      <td>12/1/2018 0:00</td>\n",
       "      <td>LAX</td>\n",
       "      <td>ABQ</td>\n",
       "      <td>-5.0</td>\n",
       "      <td>-23.0</td>\n",
       "      <td>0</td>\n",
       "      <td>NaN</td>\n",
       "      <td>0</td>\n",
       "      <td>NaN</td>\n",
       "      <td>NaN</td>\n",
       "      <td>NaN</td>\n",
       "      <td>NaN</td>\n",
       "      <td>NaN</td>\n",
       "      <td>0</td>\n",
       "      <td>0</td>\n",
       "      <td>0</td>\n",
       "    </tr>\n",
       "    <tr>\n",
       "      <th>3</th>\n",
       "      <td>12/1/2018 0:00</td>\n",
       "      <td>LAX</td>\n",
       "      <td>ABQ</td>\n",
       "      <td>-5.0</td>\n",
       "      <td>-21.0</td>\n",
       "      <td>0</td>\n",
       "      <td>NaN</td>\n",
       "      <td>0</td>\n",
       "      <td>NaN</td>\n",
       "      <td>NaN</td>\n",
       "      <td>NaN</td>\n",
       "      <td>NaN</td>\n",
       "      <td>NaN</td>\n",
       "      <td>0</td>\n",
       "      <td>0</td>\n",
       "      <td>0</td>\n",
       "    </tr>\n",
       "    <tr>\n",
       "      <th>4</th>\n",
       "      <td>12/1/2018 0:00</td>\n",
       "      <td>LAX</td>\n",
       "      <td>ABQ</td>\n",
       "      <td>-2.0</td>\n",
       "      <td>-18.0</td>\n",
       "      <td>0</td>\n",
       "      <td>NaN</td>\n",
       "      <td>0</td>\n",
       "      <td>NaN</td>\n",
       "      <td>NaN</td>\n",
       "      <td>NaN</td>\n",
       "      <td>NaN</td>\n",
       "      <td>NaN</td>\n",
       "      <td>0</td>\n",
       "      <td>0</td>\n",
       "      <td>0</td>\n",
       "    </tr>\n",
       "  </tbody>\n",
       "</table>\n",
       "</div>"
      ],
      "text/plain": [
       "          FL_DATE ORIGIN DEST DEP_DELAY ARR_DELAY CANCELLED CANCELLATION_CODE  \\\n",
       "0  12/1/2018 0:00    LAX  ABQ      -7.0     -22.0         0               NaN   \n",
       "1  12/1/2018 0:00    LAX  ABQ      -7.0     -11.0         0               NaN   \n",
       "2  12/1/2018 0:00    LAX  ABQ      -5.0     -23.0         0               NaN   \n",
       "3  12/1/2018 0:00    LAX  ABQ      -5.0     -21.0         0               NaN   \n",
       "4  12/1/2018 0:00    LAX  ABQ      -2.0     -18.0         0               NaN   \n",
       "\n",
       "  DIVERTED CARRIER_DELAY WEATHER_DELAY NAS_DELAY SECURITY_DELAY  \\\n",
       "0        0           NaN           NaN       NaN            NaN   \n",
       "1        0           NaN           NaN       NaN            NaN   \n",
       "2        0           NaN           NaN       NaN            NaN   \n",
       "3        0           NaN           NaN       NaN            NaN   \n",
       "4        0           NaN           NaN       NaN            NaN   \n",
       "\n",
       "  LATE_AIRCRAFT_DELAY DELAYED_STATUS CANCELLED_STATUS DIVERTED_STATUS  \n",
       "0                 NaN              0                0               0  \n",
       "1                 NaN              0                0               0  \n",
       "2                 NaN              0                0               0  \n",
       "3                 NaN              0                0               0  \n",
       "4                 NaN              0                0               0  "
      ]
     },
     "execution_count": 15,
     "metadata": {},
     "output_type": "execute_result"
    }
   ],
   "source": [
    "def convert_yes_no_to_binary(df):\n",
    "    column_names = ['DELAYED_STATUS', 'CANCELLED_STATUS', 'DIVERTED_STATUS']\n",
    "    for column in column_names:\n",
    "         df[column_names] = df[column_names].replace({'YES': 1, 'NO': 0})\n",
    "    return df\n",
    "\n",
    "flightdelays_df = pd.read_csv('merged-csv-files.csv')\n",
    "flightdelays_df = convert_yes_no_to_binary(flightdelays_df)\n",
    "flightdelays_df.to_csv('merged-csv-files.csv', index=False)\n",
    "\n",
    "flightdelays_df.head()"
   ]
  },
  {
   "cell_type": "code",
   "execution_count": 16,
   "metadata": {},
   "outputs": [
    {
     "data": {
      "text/plain": [
       "FL_DATE                object\n",
       "ORIGIN                 object\n",
       "DEST                   object\n",
       "DEP_DELAY              object\n",
       "ARR_DELAY              object\n",
       "CANCELLED              object\n",
       "CANCELLATION_CODE      object\n",
       "DIVERTED               object\n",
       "CARRIER_DELAY          object\n",
       "WEATHER_DELAY          object\n",
       "NAS_DELAY              object\n",
       "SECURITY_DELAY         object\n",
       "LATE_AIRCRAFT_DELAY    object\n",
       "DELAYED_STATUS         object\n",
       "CANCELLED_STATUS       object\n",
       "DIVERTED_STATUS        object\n",
       "dtype: object"
      ]
     },
     "execution_count": 16,
     "metadata": {},
     "output_type": "execute_result"
    }
   ],
   "source": [
    "#show data types\n",
    "flightdelays_df.dtypes"
   ]
  },
  {
   "cell_type": "code",
   "execution_count": 17,
   "metadata": {},
   "outputs": [
    {
     "data": {
      "text/html": [
       "<div>\n",
       "<style scoped>\n",
       "    .dataframe tbody tr th:only-of-type {\n",
       "        vertical-align: middle;\n",
       "    }\n",
       "\n",
       "    .dataframe tbody tr th {\n",
       "        vertical-align: top;\n",
       "    }\n",
       "\n",
       "    .dataframe thead th {\n",
       "        text-align: right;\n",
       "    }\n",
       "</style>\n",
       "<table border=\"1\" class=\"dataframe\">\n",
       "  <thead>\n",
       "    <tr style=\"text-align: right;\">\n",
       "      <th></th>\n",
       "      <th>FL_DATE</th>\n",
       "      <th>ORIGIN</th>\n",
       "      <th>DEST</th>\n",
       "      <th>DEP_DELAY</th>\n",
       "      <th>ARR_DELAY</th>\n",
       "      <th>CANCELLED</th>\n",
       "      <th>DELAYED_STATUS</th>\n",
       "      <th>CANCELLED_STATUS</th>\n",
       "      <th>DIVERTED_STATUS</th>\n",
       "    </tr>\n",
       "  </thead>\n",
       "  <tbody>\n",
       "    <tr>\n",
       "      <th>0</th>\n",
       "      <td>12/1/2018 0:00</td>\n",
       "      <td>LAX</td>\n",
       "      <td>ABQ</td>\n",
       "      <td>-7.0</td>\n",
       "      <td>-22.0</td>\n",
       "      <td>0</td>\n",
       "      <td>0</td>\n",
       "      <td>0</td>\n",
       "      <td>0</td>\n",
       "    </tr>\n",
       "    <tr>\n",
       "      <th>1</th>\n",
       "      <td>12/1/2018 0:00</td>\n",
       "      <td>LAX</td>\n",
       "      <td>ABQ</td>\n",
       "      <td>-7.0</td>\n",
       "      <td>-11.0</td>\n",
       "      <td>0</td>\n",
       "      <td>0</td>\n",
       "      <td>0</td>\n",
       "      <td>0</td>\n",
       "    </tr>\n",
       "    <tr>\n",
       "      <th>2</th>\n",
       "      <td>12/1/2018 0:00</td>\n",
       "      <td>LAX</td>\n",
       "      <td>ABQ</td>\n",
       "      <td>-5.0</td>\n",
       "      <td>-23.0</td>\n",
       "      <td>0</td>\n",
       "      <td>0</td>\n",
       "      <td>0</td>\n",
       "      <td>0</td>\n",
       "    </tr>\n",
       "    <tr>\n",
       "      <th>3</th>\n",
       "      <td>12/1/2018 0:00</td>\n",
       "      <td>LAX</td>\n",
       "      <td>ABQ</td>\n",
       "      <td>-5.0</td>\n",
       "      <td>-21.0</td>\n",
       "      <td>0</td>\n",
       "      <td>0</td>\n",
       "      <td>0</td>\n",
       "      <td>0</td>\n",
       "    </tr>\n",
       "    <tr>\n",
       "      <th>4</th>\n",
       "      <td>12/1/2018 0:00</td>\n",
       "      <td>LAX</td>\n",
       "      <td>ABQ</td>\n",
       "      <td>-2.0</td>\n",
       "      <td>-18.0</td>\n",
       "      <td>0</td>\n",
       "      <td>0</td>\n",
       "      <td>0</td>\n",
       "      <td>0</td>\n",
       "    </tr>\n",
       "  </tbody>\n",
       "</table>\n",
       "</div>"
      ],
      "text/plain": [
       "          FL_DATE ORIGIN DEST DEP_DELAY ARR_DELAY CANCELLED DELAYED_STATUS  \\\n",
       "0  12/1/2018 0:00    LAX  ABQ      -7.0     -22.0         0              0   \n",
       "1  12/1/2018 0:00    LAX  ABQ      -7.0     -11.0         0              0   \n",
       "2  12/1/2018 0:00    LAX  ABQ      -5.0     -23.0         0              0   \n",
       "3  12/1/2018 0:00    LAX  ABQ      -5.0     -21.0         0              0   \n",
       "4  12/1/2018 0:00    LAX  ABQ      -2.0     -18.0         0              0   \n",
       "\n",
       "  CANCELLED_STATUS DIVERTED_STATUS  \n",
       "0                0               0  \n",
       "1                0               0  \n",
       "2                0               0  \n",
       "3                0               0  \n",
       "4                0               0  "
      ]
     },
     "execution_count": 17,
     "metadata": {},
     "output_type": "execute_result"
    }
   ],
   "source": [
    "# Select the desired columns\n",
    "reduced_flightdelays_df = flightdelays_df[['FL_DATE', 'ORIGIN', 'DEST', 'DEP_DELAY', 'ARR_DELAY', 'CANCELLED', 'DELAYED_STATUS', 'CANCELLED_STATUS', 'DIVERTED_STATUS']]\n",
    "\n",
    "# Assign the reduced DataFrame to a new variable or overwrite the existing one\n",
    "flightdelays_df = reduced_flightdelays_df\n",
    "flightdelays_df.head()"
   ]
  },
  {
   "cell_type": "code",
   "execution_count": 18,
   "metadata": {},
   "outputs": [
    {
     "data": {
      "text/plain": [
       "FL_DATE             object\n",
       "ORIGIN              object\n",
       "DEST                object\n",
       "DEP_DELAY           object\n",
       "ARR_DELAY           object\n",
       "CANCELLED           object\n",
       "DELAYED_STATUS      object\n",
       "CANCELLED_STATUS    object\n",
       "DIVERTED_STATUS     object\n",
       "dtype: object"
      ]
     },
     "execution_count": 18,
     "metadata": {},
     "output_type": "execute_result"
    }
   ],
   "source": [
    "flightdelays_df.dtypes"
   ]
  },
  {
   "cell_type": "code",
   "execution_count": 19,
   "metadata": {},
   "outputs": [],
   "source": [
    "string_array_columns = ['DEP_DELAY', 'ARR_DELAY', 'CANCELLED', 'DELAYED_STATUS', 'CANCELLED_STATUS', 'DIVERTED_STATUS']\n",
    "for column in string_array_columns:\n",
    "    reduced_flightdelays_df[column] = reduced_flightdelays_df[column].astype(str)"
   ]
  },
  {
   "cell_type": "code",
   "execution_count": 20,
   "metadata": {},
   "outputs": [],
   "source": [
    "# Create an instance of MongoClient\n",
    "mongo = MongoClient(port=27017)"
   ]
  },
  {
   "cell_type": "code",
   "execution_count": 21,
   "metadata": {},
   "outputs": [],
   "source": [
    "# Create the database\n",
    "db = mongo[\"flight_data\"]"
   ]
  },
  {
   "cell_type": "code",
   "execution_count": 22,
   "metadata": {},
   "outputs": [],
   "source": [
    "# assign the collection to a variable\n",
    "flight_delay = db['flight_delays']"
   ]
  },
  {
   "cell_type": "code",
   "execution_count": 23,
   "metadata": {},
   "outputs": [],
   "source": [
    "# turn the df into a list o dictionaries \n",
    "data = flightdelays_df.to_dict(orient='records')"
   ]
  },
  {
   "cell_type": "code",
   "execution_count": 24,
   "metadata": {},
   "outputs": [
    {
     "data": {
      "text/plain": [
       "<pymongo.results.InsertManyResult at 0x27d4775f340>"
      ]
     },
     "execution_count": 24,
     "metadata": {},
     "output_type": "execute_result"
    }
   ],
   "source": [
    "# insert the whole list of dictionairies into MongoDB\n",
    "flight_delay.insert_many(data)"
   ]
  },
  {
   "cell_type": "code",
   "execution_count": 25,
   "metadata": {},
   "outputs": [],
   "source": [
    "# close the MongoDB connection\n",
    "mongo.close()"
   ]
  }
 ],
 "metadata": {
  "kernelspec": {
   "display_name": "PythonData",
   "language": "python",
   "name": "python3"
  },
  "language_info": {
   "codemirror_mode": {
    "name": "ipython",
    "version": 3
   },
   "file_extension": ".py",
   "mimetype": "text/x-python",
   "name": "python",
   "nbconvert_exporter": "python",
   "pygments_lexer": "ipython3",
   "version": "3.11.3"
  },
  "orig_nbformat": 4
 },
 "nbformat": 4,
 "nbformat_minor": 2
}
