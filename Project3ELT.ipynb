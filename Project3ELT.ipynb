{
 "cells": [
  {
   "cell_type": "code",
   "execution_count": null,
   "metadata": {},
   "outputs": [],
   "source": [
    "# Import dependencies\n",
    "from pymongo import MongoClient\n",
    "import pandas as pd\n",
    "from pprint import pprint\n",
    "import csv"
   ]
  },
  {
   "cell_type": "code",
   "execution_count": null,
   "metadata": {},
   "outputs": [],
   "source": [
    "def convert_yes_no_to_binary(df):\n",
    "    column_names = ['DELAYED_STATUS', 'CANCELLED_STATUS', 'DIVERTED_STATUS']\n",
    "    for column in column_names:\n",
    "         df[column_names] = df[column_names].replace({'YES': 1, 'NO': 0})\n",
    "    return df\n",
    "\n",
    "flightdelays_df = pd.read_csv('merged-csv-files.csv')\n",
    "flightdelays_df = convert_yes_no_to_binary(flightdelays_df)\n",
    "flightdelays_df.to_csv('merged-csv-files.csv', index=False)\n",
    "\n",
    "flightdelays_df.head()"
   ]
  },
  {
   "cell_type": "code",
   "execution_count": null,
   "metadata": {},
   "outputs": [],
   "source": [
    "#show data types\n",
    "flightdelays_df.dtypes"
   ]
  },
  {
   "cell_type": "code",
   "execution_count": null,
   "metadata": {},
   "outputs": [],
   "source": [
    "# Select the desired columns\n",
    "reduced_flightdelays_df = flightdelays_df[['FL_DATE', 'ORIGIN', 'DEST', 'DEP_DELAY', 'ARR_DELAY', 'CANCELLED', 'DELAYED_STATUS', 'CANCELLED_STATUS', 'DIVERTED_STATUS']]\n",
    "\n",
    "# Assign the reduced DataFrame to a new variable or overwrite the existing one\n",
    "flightdelays_df = reduced_flightdelays_df\n",
    "flightdelays_df.head()"
   ]
  },
  {
   "cell_type": "code",
   "execution_count": null,
   "metadata": {},
   "outputs": [],
   "source": [
    "flightdelays_df.dtypes"
   ]
  },
  {
   "cell_type": "code",
   "execution_count": null,
   "metadata": {},
   "outputs": [],
   "source": [
    "# Create an instance of MongoClient\n",
    "mongo = MongoClient(port=27017)"
   ]
  },
  {
   "cell_type": "code",
   "execution_count": null,
   "metadata": {},
   "outputs": [],
   "source": [
    "# Create the database\n",
    "db = mongo[\"flight_data\"]"
   ]
  },
  {
   "cell_type": "code",
   "execution_count": null,
   "metadata": {},
   "outputs": [],
   "source": [
    "# assign the collection to a variable\n",
    "flight_delay = db['flight_delays']"
   ]
  },
  {
   "cell_type": "code",
   "execution_count": null,
   "metadata": {},
   "outputs": [],
   "source": [
    "# turn the df into a list o dictionaries \n",
    "data = flightdelays_df.to_dict(orient='records')"
   ]
  },
  {
   "cell_type": "code",
   "execution_count": null,
   "metadata": {},
   "outputs": [],
   "source": [
    "# insert the whole list of dictionairies into MongoDB\n",
    "flight_delay.insert_many(data)"
   ]
  },
  {
   "cell_type": "code",
   "execution_count": null,
   "metadata": {},
   "outputs": [],
   "source": [
    "# close the MongoDB connection\n",
    "mongo.close()"
   ]
  }
 ],
 "metadata": {
  "kernelspec": {
   "display_name": "PythonData",
   "language": "python",
   "name": "python3"
  },
  "language_info": {
   "codemirror_mode": {
    "name": "ipython",
    "version": 3
   },
   "file_extension": ".py",
   "mimetype": "text/x-python",
   "name": "python",
   "nbconvert_exporter": "python",
   "pygments_lexer": "ipython3",
   "version": "3.11.3"
  },
  "orig_nbformat": 4
 },
 "nbformat": 4,
 "nbformat_minor": 2
}
