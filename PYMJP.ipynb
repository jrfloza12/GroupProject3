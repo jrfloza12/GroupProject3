{
 "cells": [
  {
   "cell_type": "code",
   "execution_count": 1,
   "id": "a13c1442",
   "metadata": {},
   "outputs": [],
   "source": [
    "from pymongo import MongoClient\n",
    "import pandas as pd\n",
    "from pprint import pprint"
   ]
  },
  {
   "cell_type": "code",
   "execution_count": 13,
   "id": "5f867073",
   "metadata": {},
   "outputs": [
    {
     "name": "stderr",
     "output_type": "stream",
     "text": [
      "/var/folders/xc/95yn4q_n0j9fkgw9vm426pw00000gp/T/ipykernel_21551/1686797993.py:1: DtypeWarning: Columns (3,4,5,7,8,9,10,11,12) have mixed types. Specify dtype option on import or set low_memory=False.\n",
      "  flightdelays_df = pd.read_csv('merged-csv-files-2.csv')\n"
     ]
    },
    {
     "data": {
      "text/html": [
       "<div>\n",
       "<style scoped>\n",
       "    .dataframe tbody tr th:only-of-type {\n",
       "        vertical-align: middle;\n",
       "    }\n",
       "\n",
       "    .dataframe tbody tr th {\n",
       "        vertical-align: top;\n",
       "    }\n",
       "\n",
       "    .dataframe thead th {\n",
       "        text-align: right;\n",
       "    }\n",
       "</style>\n",
       "<table border=\"1\" class=\"dataframe\">\n",
       "  <thead>\n",
       "    <tr style=\"text-align: right;\">\n",
       "      <th></th>\n",
       "      <th>FL_DATE</th>\n",
       "      <th>ORIGIN</th>\n",
       "      <th>DEST</th>\n",
       "      <th>DEP_DELAY</th>\n",
       "      <th>ARR_DELAY</th>\n",
       "      <th>CANCELLED</th>\n",
       "      <th>CANCELLATION_CODE</th>\n",
       "      <th>DIVERTED</th>\n",
       "      <th>CARRIER_DELAY</th>\n",
       "      <th>WEATHER_DELAY</th>\n",
       "      <th>NAS_DELAY</th>\n",
       "      <th>SECURITY_DELAY</th>\n",
       "      <th>LATE_AIRCRAFT_DELAY</th>\n",
       "      <th>DELAYED_STATUS</th>\n",
       "      <th>CANCELLED_STATUS</th>\n",
       "      <th>DIVERTED_STATUS</th>\n",
       "    </tr>\n",
       "  </thead>\n",
       "  <tbody>\n",
       "    <tr>\n",
       "      <th>0</th>\n",
       "      <td>12/1/18 0:00</td>\n",
       "      <td>LAX</td>\n",
       "      <td>ABQ</td>\n",
       "      <td>-7.0</td>\n",
       "      <td>-22.0</td>\n",
       "      <td>0</td>\n",
       "      <td>NaN</td>\n",
       "      <td>0</td>\n",
       "      <td>NaN</td>\n",
       "      <td>NaN</td>\n",
       "      <td>NaN</td>\n",
       "      <td>NaN</td>\n",
       "      <td>NaN</td>\n",
       "      <td>NO</td>\n",
       "      <td>NO</td>\n",
       "      <td>NO</td>\n",
       "    </tr>\n",
       "    <tr>\n",
       "      <th>1</th>\n",
       "      <td>12/1/18 0:00</td>\n",
       "      <td>LAX</td>\n",
       "      <td>ABQ</td>\n",
       "      <td>-7.0</td>\n",
       "      <td>-11.0</td>\n",
       "      <td>0</td>\n",
       "      <td>NaN</td>\n",
       "      <td>0</td>\n",
       "      <td>NaN</td>\n",
       "      <td>NaN</td>\n",
       "      <td>NaN</td>\n",
       "      <td>NaN</td>\n",
       "      <td>NaN</td>\n",
       "      <td>NO</td>\n",
       "      <td>NO</td>\n",
       "      <td>NO</td>\n",
       "    </tr>\n",
       "    <tr>\n",
       "      <th>2</th>\n",
       "      <td>12/1/18 0:00</td>\n",
       "      <td>LAX</td>\n",
       "      <td>ABQ</td>\n",
       "      <td>-5.0</td>\n",
       "      <td>-23.0</td>\n",
       "      <td>0</td>\n",
       "      <td>NaN</td>\n",
       "      <td>0</td>\n",
       "      <td>NaN</td>\n",
       "      <td>NaN</td>\n",
       "      <td>NaN</td>\n",
       "      <td>NaN</td>\n",
       "      <td>NaN</td>\n",
       "      <td>NO</td>\n",
       "      <td>NO</td>\n",
       "      <td>NO</td>\n",
       "    </tr>\n",
       "    <tr>\n",
       "      <th>3</th>\n",
       "      <td>12/1/18 0:00</td>\n",
       "      <td>LAX</td>\n",
       "      <td>ABQ</td>\n",
       "      <td>-5.0</td>\n",
       "      <td>-21.0</td>\n",
       "      <td>0</td>\n",
       "      <td>NaN</td>\n",
       "      <td>0</td>\n",
       "      <td>NaN</td>\n",
       "      <td>NaN</td>\n",
       "      <td>NaN</td>\n",
       "      <td>NaN</td>\n",
       "      <td>NaN</td>\n",
       "      <td>NO</td>\n",
       "      <td>NO</td>\n",
       "      <td>NO</td>\n",
       "    </tr>\n",
       "    <tr>\n",
       "      <th>4</th>\n",
       "      <td>12/1/18 0:00</td>\n",
       "      <td>LAX</td>\n",
       "      <td>ABQ</td>\n",
       "      <td>-2.0</td>\n",
       "      <td>-18.0</td>\n",
       "      <td>0</td>\n",
       "      <td>NaN</td>\n",
       "      <td>0</td>\n",
       "      <td>NaN</td>\n",
       "      <td>NaN</td>\n",
       "      <td>NaN</td>\n",
       "      <td>NaN</td>\n",
       "      <td>NaN</td>\n",
       "      <td>NO</td>\n",
       "      <td>NO</td>\n",
       "      <td>NO</td>\n",
       "    </tr>\n",
       "  </tbody>\n",
       "</table>\n",
       "</div>"
      ],
      "text/plain": [
       "        FL_DATE ORIGIN DEST DEP_DELAY ARR_DELAY CANCELLED CANCELLATION_CODE  \\\n",
       "0  12/1/18 0:00    LAX  ABQ      -7.0     -22.0         0               NaN   \n",
       "1  12/1/18 0:00    LAX  ABQ      -7.0     -11.0         0               NaN   \n",
       "2  12/1/18 0:00    LAX  ABQ      -5.0     -23.0         0               NaN   \n",
       "3  12/1/18 0:00    LAX  ABQ      -5.0     -21.0         0               NaN   \n",
       "4  12/1/18 0:00    LAX  ABQ      -2.0     -18.0         0               NaN   \n",
       "\n",
       "  DIVERTED CARRIER_DELAY WEATHER_DELAY NAS_DELAY SECURITY_DELAY  \\\n",
       "0        0           NaN           NaN       NaN            NaN   \n",
       "1        0           NaN           NaN       NaN            NaN   \n",
       "2        0           NaN           NaN       NaN            NaN   \n",
       "3        0           NaN           NaN       NaN            NaN   \n",
       "4        0           NaN           NaN       NaN            NaN   \n",
       "\n",
       "  LATE_AIRCRAFT_DELAY DELAYED_STATUS CANCELLED_STATUS DIVERTED_STATUS  \n",
       "0                 NaN             NO               NO              NO  \n",
       "1                 NaN             NO               NO              NO  \n",
       "2                 NaN             NO               NO              NO  \n",
       "3                 NaN             NO               NO              NO  \n",
       "4                 NaN             NO               NO              NO  "
      ]
     },
     "execution_count": 13,
     "metadata": {},
     "output_type": "execute_result"
    }
   ],
   "source": [
    "flightdelays_df = pd.read_csv('merged-csv-files-2.csv')\n",
    "flightdelays_df.head()"
   ]
  },
  {
   "cell_type": "code",
   "execution_count": 14,
   "id": "0fa806ca",
   "metadata": {},
   "outputs": [
    {
     "data": {
      "text/plain": [
       "FL_DATE                object\n",
       "ORIGIN                 object\n",
       "DEST                   object\n",
       "DEP_DELAY              object\n",
       "ARR_DELAY              object\n",
       "CANCELLED              object\n",
       "CANCELLATION_CODE      object\n",
       "DIVERTED               object\n",
       "CARRIER_DELAY          object\n",
       "WEATHER_DELAY          object\n",
       "NAS_DELAY              object\n",
       "SECURITY_DELAY         object\n",
       "LATE_AIRCRAFT_DELAY    object\n",
       "DELAYED_STATUS         object\n",
       "CANCELLED_STATUS       object\n",
       "DIVERTED_STATUS        object\n",
       "dtype: object"
      ]
     },
     "execution_count": 14,
     "metadata": {},
     "output_type": "execute_result"
    }
   ],
   "source": [
    "flightdelays_df.dtypes"
   ]
  },
  {
   "cell_type": "code",
   "execution_count": 15,
   "id": "0eb97517",
   "metadata": {},
   "outputs": [],
   "source": [
    "mongo = MongoClient(port=27017)"
   ]
  },
  {
   "cell_type": "code",
   "execution_count": 16,
   "id": "8dd2b385",
   "metadata": {},
   "outputs": [],
   "source": [
    "db = mongo[\"flight_data\"]"
   ]
  },
  {
   "cell_type": "code",
   "execution_count": 17,
   "id": "f7d14f49",
   "metadata": {},
   "outputs": [],
   "source": [
    "flight_delay = db['flight_delays']"
   ]
  },
  {
   "cell_type": "code",
   "execution_count": 18,
   "id": "b31ec0b9",
   "metadata": {},
   "outputs": [],
   "source": [
    "data = flightdelays_df.to_dict(orient='records')"
   ]
  },
  {
   "cell_type": "code",
   "execution_count": 19,
   "id": "356c1b3e",
   "metadata": {},
   "outputs": [
    {
     "data": {
      "text/plain": [
       "<pymongo.results.InsertManyResult at 0x7fcaeb8aba60>"
      ]
     },
     "execution_count": 19,
     "metadata": {},
     "output_type": "execute_result"
    }
   ],
   "source": [
    "flight_delay.insert_many(data)"
   ]
  },
  {
   "cell_type": "code",
   "execution_count": 20,
   "id": "f43ae8b2",
   "metadata": {},
   "outputs": [],
   "source": [
    "mongo.close()"
   ]
  },
  {
   "cell_type": "code",
   "execution_count": null,
   "id": "7f5dfd3a",
   "metadata": {},
   "outputs": [],
   "source": []
  }
 ],
 "metadata": {
  "kernelspec": {
   "display_name": "Python 3 (ipykernel)",
   "language": "python",
   "name": "python3"
  },
  "language_info": {
   "codemirror_mode": {
    "name": "ipython",
    "version": 3
   },
   "file_extension": ".py",
   "mimetype": "text/x-python",
   "name": "python",
   "nbconvert_exporter": "python",
   "pygments_lexer": "ipython3",
   "version": "3.9.13"
  }
 },
 "nbformat": 4,
 "nbformat_minor": 5
}
